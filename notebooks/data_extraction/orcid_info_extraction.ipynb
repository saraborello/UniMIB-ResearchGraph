{
 "cells": [
  {
   "cell_type": "code",
   "execution_count": 3,
   "metadata": {},
   "outputs": [
    {
     "name": "stderr",
     "output_type": "stream",
     "text": [
      "Python-dotenv could not parse statement starting at line 2\n"
     ]
    },
    {
     "name": "stdout",
     "output_type": "stream",
     "text": [
      "CSV file created successfully!\n"
     ]
    }
   ],
   "source": [
    "import pandas as pd\n",
    "from dotenv import load_dotenv\n",
    "\n",
    "load_dotenv()\n",
    "\n",
    "from src.orcid_extraction import collect_professor_data\n",
    "\n",
    "# Dataset from scraping\n",
    "professors_data = [\n",
    "    {'Given Name': 'Fabio', 'Family Name': 'Mercorio'},\n",
    "    {'Given Name': 'Pietro Giorgio', 'Family Name': 'Lovaglio'},\n",
    "    {'Given Name': 'Andrea', 'Family Name': 'Maurino'}\n",
    "]\n",
    "\n",
    "professors_df = pd.DataFrame(professors_data)\n",
    "professors_info= collect_professor_data(professors_df)\n",
    "\n",
    "professors_info_df = pd.DataFrame(professors_info)\n",
    "professors_info_df.to_csv('../../data/processed/professors_orcid_info.csv', index=False, quoting=csv.QUOTE_NONNUMERIC)\n",
    "\n",
    "print(\"CSV file created successfully!\")\n"
   ]
  },
  {
   "cell_type": "code",
   "execution_count": 4,
   "metadata": {},
   "outputs": [
    {
     "data": {
      "text/html": [
       "<div>\n",
       "<style scoped>\n",
       "    .dataframe tbody tr th:only-of-type {\n",
       "        vertical-align: middle;\n",
       "    }\n",
       "\n",
       "    .dataframe tbody tr th {\n",
       "        vertical-align: top;\n",
       "    }\n",
       "\n",
       "    .dataframe thead th {\n",
       "        text-align: right;\n",
       "    }\n",
       "</style>\n",
       "<table border=\"1\" class=\"dataframe\">\n",
       "  <thead>\n",
       "    <tr style=\"text-align: right;\">\n",
       "      <th></th>\n",
       "      <th>Given Name</th>\n",
       "      <th>Family Name</th>\n",
       "      <th>Keywords</th>\n",
       "      <th>ResearcherID</th>\n",
       "      <th>Role Title</th>\n",
       "      <th>Start Date</th>\n",
       "      <th>Organization</th>\n",
       "      <th>Number of Works</th>\n",
       "      <th>ORCID ID</th>\n",
       "    </tr>\n",
       "  </thead>\n",
       "  <tbody>\n",
       "    <tr>\n",
       "      <th>0</th>\n",
       "      <td>Fabio</td>\n",
       "      <td>Mercorio</td>\n",
       "      <td>Nessuna</td>\n",
       "      <td>E-4369-2013</td>\n",
       "      <td>Associate Professor</td>\n",
       "      <td>2021</td>\n",
       "      <td>Università degli Studi di Milano-Bicocca</td>\n",
       "      <td>85</td>\n",
       "      <td>0000-0001-6864-2702</td>\n",
       "    </tr>\n",
       "    <tr>\n",
       "      <th>1</th>\n",
       "      <td>Pietro Giorgio</td>\n",
       "      <td>Lovaglio</td>\n",
       "      <td>Data Mining, Statistical learning, Businness I...</td>\n",
       "      <td>J-8839-2016</td>\n",
       "      <td>Full professor Economic Statistics</td>\n",
       "      <td>2006</td>\n",
       "      <td>University of Milano-Bicocca</td>\n",
       "      <td>80</td>\n",
       "      <td>0000-0002-2340-0547</td>\n",
       "    </tr>\n",
       "    <tr>\n",
       "      <th>2</th>\n",
       "      <td>Andrea</td>\n",
       "      <td>Maurino</td>\n",
       "      <td>Nessuna</td>\n",
       "      <td>N/A</td>\n",
       "      <td>Associate professor</td>\n",
       "      <td>2015</td>\n",
       "      <td>Università degli Studi di Milano-Bicocca</td>\n",
       "      <td>1</td>\n",
       "      <td>0000-0001-9803-3668</td>\n",
       "    </tr>\n",
       "  </tbody>\n",
       "</table>\n",
       "</div>"
      ],
      "text/plain": [
       "       Given Name Family Name  \\\n",
       "0           Fabio    Mercorio   \n",
       "1  Pietro Giorgio    Lovaglio   \n",
       "2          Andrea     Maurino   \n",
       "\n",
       "                                            Keywords ResearcherID  \\\n",
       "0                                            Nessuna  E-4369-2013   \n",
       "1  Data Mining, Statistical learning, Businness I...  J-8839-2016   \n",
       "2                                            Nessuna          N/A   \n",
       "\n",
       "                           Role Title Start Date  \\\n",
       "0                 Associate Professor       2021   \n",
       "1  Full professor Economic Statistics       2006   \n",
       "2                 Associate professor       2015   \n",
       "\n",
       "                               Organization  Number of Works  \\\n",
       "0  Università degli Studi di Milano-Bicocca               85   \n",
       "1              University of Milano-Bicocca               80   \n",
       "2  Università degli Studi di Milano-Bicocca                1   \n",
       "\n",
       "              ORCID ID  \n",
       "0  0000-0001-6864-2702  \n",
       "1  0000-0002-2340-0547  \n",
       "2  0000-0001-9803-3668  "
      ]
     },
     "execution_count": 4,
     "metadata": {},
     "output_type": "execute_result"
    }
   ],
   "source": [
    "professors_info_df.head()"
   ]
  }
 ],
 "metadata": {
  "kernelspec": {
   "display_name": "Python 3",
   "language": "python",
   "name": "python3"
  },
  "language_info": {
   "codemirror_mode": {
    "name": "ipython",
    "version": 3
   },
   "file_extension": ".py",
   "mimetype": "text/x-python",
   "name": "python",
   "nbconvert_exporter": "python",
   "pygments_lexer": "ipython3",
   "version": "3.9.6"
  }
 },
 "nbformat": 4,
 "nbformat_minor": 2
}
