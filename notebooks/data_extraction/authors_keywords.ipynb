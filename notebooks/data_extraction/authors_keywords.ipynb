{
 "cells": [
  {
   "cell_type": "code",
   "execution_count": 2,
   "metadata": {},
   "outputs": [],
   "source": [
    "import pandas as pd\n",
    "df = pd.read_csv('../../data/processed/Authors_complete.csv')"
   ]
  },
  {
   "cell_type": "code",
   "execution_count": 28,
   "metadata": {},
   "outputs": [
    {
     "name": "stdout",
     "output_type": "stream",
     "text": [
      "Professor missing Citations: NYSSEN PENALOZA\n",
      "Professor missing Citations: CLAUDIA RAIBULET\n",
      "Professor missing Citations: GIULIA ROSEMARY AVIS\n",
      "Professor missing Citations: RAMDHANE FIRAS BEN\n",
      "Professor missing Citations: FEDERICO BERGAMINI\n",
      "Professor missing Citations: LUCA CELOTTI\n",
      "Professor missing Citations: MATTEO ROBERT CHILD\n",
      "Professor missing Citations: ROBERTO CROTTI\n",
      "Professor missing Citations: SEYED MOJTABA DARYABARI\n",
      "Professor missing Citations: MANUEL ELIA\n",
      "Professor missing Citations: YOUNAN GAO\n",
      "Professor missing Citations: ROBERTO GARRONE\n",
      "Professor missing Citations: ALESSANDRO GHERARDI\n",
      "Professor missing Citations: GIORGIO LONGARI\n",
      "Professor missing Citations: FILIPPO MAGGIOLI\n",
      "Professor missing Citations: JACOPO MALTAGLIATI\n",
      "Professor missing Citations: GIORGIO MARIANI\n",
      "Professor missing Citations: GIULIAMARIA MENARA\n",
      "Professor missing Citations: SANDIP JAYANTLIAL MODHA\n",
      "Professor missing Citations: SARA NOCCO\n",
      "Professor missing Citations: SEYEDIMAN SEYEDI\n",
      "Professor missing Citations: HOLGADO LUCIA VICENTE\n",
      "Professor missing Citations: AN QI ZHAO\n",
      "Professor missing Citations: QURBAN ALI\n",
      "Professor missing Citations: THOMAS BARBERA\n",
      "Professor missing Citations: FRANCESCO CANONACO\n",
      "Professor missing Citations: LUCA COGO\n",
      "Professor missing Citations: SALVATORE D'ANTONA\n",
      "Professor missing Citations: FEDERICO DI MARCO\n",
      "Professor missing Citations: MATTEO GARAVAGLIA\n",
      "Professor missing Citations: MARCO LOCATELLI\n",
      "Professor missing Citations: ATIEH MAHROO\n",
      "Professor missing Citations: MARIO MARINO\n",
      "Professor missing Citations: ALBERTO MINORA\n",
      "Professor missing Citations: FRANCESCO MORANO\n",
      "Professor missing Citations: FEDERICO PIROLA\n",
      "Professor missing Citations: GIORGIA RIGAMONTI\n",
      "Professor missing Citations: NICCOLÒ ROCCHI\n",
      "Professor missing Citations: SAHAR SHAH\n",
      "Professor missing Citations: MOHAMED NASSER HASSAN SWEILAM\n"
     ]
    }
   ],
   "source": [
    "missing_orcid_df = df[df['Citations'].isna()]\n",
    "\n",
    "for index, row in missing_orcid_df.iterrows():\n",
    "    given_name = row['Given Name']\n",
    "    family_name = row['Family Name']\n",
    "    print(f\"Professor missing Citations: {given_name} {family_name}\")\n"
   ]
  }
 ],
 "metadata": {
  "kernelspec": {
   "display_name": "Python 3",
   "language": "python",
   "name": "python3"
  },
  "language_info": {
   "codemirror_mode": {
    "name": "ipython",
    "version": 3
   },
   "file_extension": ".py",
   "mimetype": "text/x-python",
   "name": "python",
   "nbconvert_exporter": "python",
   "pygments_lexer": "ipython3",
   "version": "3.9.6"
  }
 },
 "nbformat": 4,
 "nbformat_minor": 2
}
