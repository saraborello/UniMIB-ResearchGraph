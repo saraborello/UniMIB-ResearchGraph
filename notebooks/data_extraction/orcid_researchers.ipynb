{
 "cells": [
  {
   "cell_type": "code",
   "execution_count": 3,
   "metadata": {},
   "outputs": [
    {
     "ename": "ModuleNotFoundError",
     "evalue": "No module named 'src'",
     "output_type": "error",
     "traceback": [
      "\u001b[0;31m---------------------------------------------------------------------------\u001b[0m",
      "\u001b[0;31mModuleNotFoundError\u001b[0m                       Traceback (most recent call last)",
      "Cell \u001b[0;32mIn[3], line 9\u001b[0m\n\u001b[1;32m      5\u001b[0m \u001b[38;5;28;01mfrom\u001b[39;00m \u001b[38;5;21;01mdotenv\u001b[39;00m \u001b[38;5;28;01mimport\u001b[39;00m load_dotenv\n\u001b[1;32m      6\u001b[0m load_dotenv()\n\u001b[0;32m----> 9\u001b[0m \u001b[38;5;28;01mfrom\u001b[39;00m \u001b[38;5;21;01msrc\u001b[39;00m\u001b[38;5;21;01m.\u001b[39;00m\u001b[38;5;21;01morcid_extraction\u001b[39;00m \u001b[38;5;28;01mimport\u001b[39;00m search_orcid_by_name, extract_profile_info, get_orcid_profile\n\u001b[1;32m     11\u001b[0m \u001b[38;5;66;03m# Creare un dataset fittizio di professori\u001b[39;00m\n\u001b[1;32m     12\u001b[0m professori_data \u001b[38;5;241m=\u001b[39m [\n\u001b[1;32m     13\u001b[0m     {\u001b[38;5;124m'\u001b[39m\u001b[38;5;124mGiven Name\u001b[39m\u001b[38;5;124m'\u001b[39m: \u001b[38;5;124m'\u001b[39m\u001b[38;5;124mFabio\u001b[39m\u001b[38;5;124m'\u001b[39m, \u001b[38;5;124m'\u001b[39m\u001b[38;5;124mFamily Name\u001b[39m\u001b[38;5;124m'\u001b[39m: \u001b[38;5;124m'\u001b[39m\u001b[38;5;124mMercorio\u001b[39m\u001b[38;5;124m'\u001b[39m},\n\u001b[1;32m     14\u001b[0m     {\u001b[38;5;124m'\u001b[39m\u001b[38;5;124mGiven Name\u001b[39m\u001b[38;5;124m'\u001b[39m: \u001b[38;5;124m'\u001b[39m\u001b[38;5;124mPietro Giorgio\u001b[39m\u001b[38;5;124m'\u001b[39m, \u001b[38;5;124m'\u001b[39m\u001b[38;5;124mFamily Name\u001b[39m\u001b[38;5;124m'\u001b[39m: \u001b[38;5;124m'\u001b[39m\u001b[38;5;124mLovaglio\u001b[39m\u001b[38;5;124m'\u001b[39m},\n\u001b[1;32m     15\u001b[0m     {\u001b[38;5;124m'\u001b[39m\u001b[38;5;124mGiven Name\u001b[39m\u001b[38;5;124m'\u001b[39m: \u001b[38;5;124m'\u001b[39m\u001b[38;5;124mAndrea\u001b[39m\u001b[38;5;124m'\u001b[39m, \u001b[38;5;124m'\u001b[39m\u001b[38;5;124mFamily Name\u001b[39m\u001b[38;5;124m'\u001b[39m: \u001b[38;5;124m'\u001b[39m\u001b[38;5;124mMaurino\u001b[39m\u001b[38;5;124m'\u001b[39m}\n\u001b[1;32m     16\u001b[0m ]\n",
      "\u001b[0;31mModuleNotFoundError\u001b[0m: No module named 'src'"
     ]
    }
   ],
   "source": [
    "\n",
    "import pandas as pd\n",
    "import requests\n",
    "import csv\n",
    "\n",
    "from dotenv import load_dotenv\n",
    "load_dotenv()\n",
    "\n",
    "\n",
    "from src.orcid_extraction import search_orcid_by_name, extract_profile_info, get_orcid_profile\n",
    "\n",
    "# Creare un dataset fittizio di professori\n",
    "professori_data = [\n",
    "    {'Given Name': 'Fabio', 'Family Name': 'Mercorio'},\n",
    "    {'Given Name': 'Pietro Giorgio', 'Family Name': 'Lovaglio'},\n",
    "    {'Given Name': 'Andrea', 'Family Name': 'Maurino'}\n",
    "]\n",
    "\n",
    "# Creare un DataFrame\n",
    "professori_df = pd.DataFrame(professori_data)\n",
    "\n",
    "# Creare una lista per salvare i risultati\n",
    "professori_info = []\n",
    "\n",
    "# Iterare su ogni professore per cercare e ottenere informazioni\n",
    "for index, row in professori_df.iterrows():\n",
    "    given_name = row['Given Name']\n",
    "    family_name = row['Family Name']\n",
    "    search_results = search_orcid_by_name(given_name, family_name)\n",
    "\n",
    "    if search_results and 'expanded-result' in search_results:\n",
    "        for result in search_results['expanded-result']:\n",
    "            orcid_id = result.get('orcid-id')\n",
    "            profile_data = get_orcid_profile(orcid_id)\n",
    "            if profile_data:\n",
    "                prof_info = extract_profile_info(profile_data)\n",
    "                professori_info.append(prof_info)\n",
    "    else:\n",
    "        print(f\"Nessun risultato trovato per {given_name} {family_name}\")\n",
    "\n",
    "# Creare un DataFrame con tutte le informazioni raccolte\n",
    "professori_info_df = pd.DataFrame(professori_info)\n",
    "\n",
    "# Salvare i risultati in un file CSV\n",
    "professori_info_df.to_csv('/Users/saraborello/Desktop/professori_orcid_info.csv', index=False, quoting=csv.QUOTE_NONNUMERIC)\n",
    "\n",
    "print(\"File CSV creato con successo!\")\n"
   ]
  },
  {
   "cell_type": "code",
   "execution_count": 1,
   "metadata": {},
   "outputs": [
    {
     "ename": "ModuleNotFoundError",
     "evalue": "No module named 'src'",
     "output_type": "error",
     "traceback": [
      "\u001b[0;31m---------------------------------------------------------------------------\u001b[0m",
      "\u001b[0;31mModuleNotFoundError\u001b[0m                       Traceback (most recent call last)",
      "Cell \u001b[0;32mIn[1], line 6\u001b[0m\n\u001b[1;32m      2\u001b[0m \u001b[38;5;28;01mimport\u001b[39;00m \u001b[38;5;21;01mos\u001b[39;00m\n\u001b[1;32m      4\u001b[0m load_dotenv()  \u001b[38;5;66;03m# Questo caricherà tutte le variabili nel file .env\u001b[39;00m\n\u001b[0;32m----> 6\u001b[0m \u001b[38;5;28;01mfrom\u001b[39;00m \u001b[38;5;21;01msrc\u001b[39;00m\u001b[38;5;21;01m.\u001b[39;00m\u001b[38;5;21;01morcid_extraction\u001b[39;00m \u001b[38;5;28;01mimport\u001b[39;00m search_orcid_by_name, extract_profile_info, get_orcid_profile\n",
      "\u001b[0;31mModuleNotFoundError\u001b[0m: No module named 'src'"
     ]
    }
   ],
   "source": [
    "\n",
    "\n",
    "\n",
    "from dotenv import load_dotenv\n",
    "import os\n",
    "\n",
    "load_dotenv()  # Questo caricherà tutte le variabili nel file .env\n",
    "\n",
    "from src.orcid_extraction import search_orcid_by_name, extract_profile_info, get_orcid_profile\n"
   ]
  },
  {
   "cell_type": "code",
   "execution_count": 4,
   "metadata": {},
   "outputs": [
    {
     "name": "stdout",
     "output_type": "stream",
     "text": [
      "Current Working Directory: /Users/saraborello/Documents/GITHUB/Citation-network/notebooks/data_extraction\n"
     ]
    }
   ],
   "source": [
    "import os\n",
    "\n",
    "# Mostra la directory di lavoro corrente\n",
    "print(\"Current Working Directory:\", os.getcwd())"
   ]
  },
  {
   "cell_type": "code",
   "execution_count": 8,
   "metadata": {},
   "outputs": [],
   "source": [
    "import sys\n",
    "import os\n",
    "\n",
    "python_path = os.getenv(\"PYTHONPATH\")\n",
    "if python_path and python_path not in sys.path:\n",
    "    sys.path.append(python_path)\n"
   ]
  },
  {
   "cell_type": "code",
   "execution_count": 9,
   "metadata": {},
   "outputs": [
    {
     "name": "stdout",
     "output_type": "stream",
     "text": [
      "../\n"
     ]
    }
   ],
   "source": [
    "import os\n",
    "from dotenv import load_dotenv\n",
    "\n",
    "load_dotenv()\n",
    "print(os.getenv(\"PYTHONPATH\"))\n",
    "\n"
   ]
  },
  {
   "cell_type": "code",
   "execution_count": 8,
   "metadata": {},
   "outputs": [
    {
     "name": "stdout",
     "output_type": "stream",
     "text": [
      "../\n"
     ]
    }
   ],
   "source": [
    "from dotenv import load_dotenv\n",
    "import os\n",
    "\n",
    "load_dotenv(dotenv_path='../.env')  # Specifica il percorso del file .env\n",
    "print(os.getenv(\"PYTHONPATH\"))\n",
    "\n"
   ]
  },
  {
   "cell_type": "code",
   "execution_count": 3,
   "metadata": {},
   "outputs": [
    {
     "ename": "ModuleNotFoundError",
     "evalue": "No module named 'orcid_extraction'",
     "output_type": "error",
     "traceback": [
      "\u001b[0;31m---------------------------------------------------------------------------\u001b[0m",
      "\u001b[0;31mModuleNotFoundError\u001b[0m                       Traceback (most recent call last)",
      "Cell \u001b[0;32mIn[3], line 8\u001b[0m\n\u001b[1;32m      5\u001b[0m sys\u001b[38;5;241m.\u001b[39mpath\u001b[38;5;241m.\u001b[39mappend(os\u001b[38;5;241m.\u001b[39mpath\u001b[38;5;241m.\u001b[39mabspath(\u001b[38;5;124m'\u001b[39m\u001b[38;5;124m../src\u001b[39m\u001b[38;5;124m'\u001b[39m))\n\u001b[1;32m      7\u001b[0m \u001b[38;5;66;03m# Ora fai l'import\u001b[39;00m\n\u001b[0;32m----> 8\u001b[0m \u001b[38;5;28;01mfrom\u001b[39;00m \u001b[38;5;21;01morcid_extraction\u001b[39;00m \u001b[38;5;28;01mimport\u001b[39;00m search_orcid_by_name, extract_profile_info, get_orcid_profile\n",
      "\u001b[0;31mModuleNotFoundError\u001b[0m: No module named 'orcid_extraction'"
     ]
    }
   ],
   "source": [
    "import sys\n",
    "import os\n",
    "\n",
    "# Aggiungi il percorso manualmente al sys.path\n",
    "sys.path.append(os.path.abspath('../src'))\n",
    "\n",
    "# Ora fai l'import\n",
    "from orcid_extraction import search_orcid_by_name, extract_profile_info, get_orcid_profile\n"
   ]
  },
  {
   "cell_type": "code",
   "execution_count": 10,
   "metadata": {},
   "outputs": [
    {
     "name": "stdout",
     "output_type": "stream",
     "text": [
      "../Citation-network/\n"
     ]
    }
   ],
   "source": [
    "import os\n",
    "\n",
    "# Imposta PYTHONPATH manualmente\n",
    "os.environ['PYTHONPATH'] = '../Citation-network/'\n",
    "\n",
    "# Verifica se è impostato correttamente\n",
    "print(os.getenv('PYTHONPATH'))\n"
   ]
  },
  {
   "cell_type": "code",
   "execution_count": 2,
   "metadata": {},
   "outputs": [
    {
     "name": "stdout",
     "output_type": "stream",
     "text": [
      "../\n"
     ]
    }
   ],
   "source": [
    "from dotenv import dotenv_values\n",
    "import os\n",
    "\n",
    "# Carica le variabili dal file .env esplicitamente\n",
    "config = dotenv_values(\".env\")\n",
    "os.environ.update(config)\n",
    "\n",
    "# Controlla se PYTHONPATH è stato impostato correttamente\n",
    "print(os.getenv(\"PYTHONPATH\"))\n"
   ]
  },
  {
   "cell_type": "code",
   "execution_count": 3,
   "metadata": {},
   "outputs": [
    {
     "ename": "ModuleNotFoundError",
     "evalue": "No module named 'src'",
     "output_type": "error",
     "traceback": [
      "\u001b[0;31m---------------------------------------------------------------------------\u001b[0m",
      "\u001b[0;31mModuleNotFoundError\u001b[0m                       Traceback (most recent call last)",
      "Cell \u001b[0;32mIn[3], line 10\u001b[0m\n\u001b[1;32m      7\u001b[0m     sys\u001b[38;5;241m.\u001b[39mpath\u001b[38;5;241m.\u001b[39mappend(module_path)\n\u001b[1;32m      9\u001b[0m \u001b[38;5;66;03m# Importa le funzioni\u001b[39;00m\n\u001b[0;32m---> 10\u001b[0m \u001b[38;5;28;01mfrom\u001b[39;00m \u001b[38;5;21;01msrc\u001b[39;00m\u001b[38;5;21;01m.\u001b[39;00m\u001b[38;5;21;01morcid_extraction\u001b[39;00m \u001b[38;5;28;01mimport\u001b[39;00m search_orcid_by_name, extract_profile_info, get_orcid_profile\n",
      "\u001b[0;31mModuleNotFoundError\u001b[0m: No module named 'src'"
     ]
    }
   ],
   "source": [
    "import os\n",
    "import sys\n",
    "\n",
    "# Aggiungi il percorso al modulo src\n",
    "module_path = os.path.abspath(os.path.join('..', 'src'))\n",
    "if module_path not in sys.path:\n",
    "    sys.path.append(module_path)\n",
    "\n",
    "# Importa le funzioni\n",
    "from src.orcid_extraction import search_orcid_by_name, extract_profile_info, get_orcid_profile\n"
   ]
  },
  {
   "cell_type": "code",
   "execution_count": 1,
   "metadata": {},
   "outputs": [
    {
     "name": "stdout",
     "output_type": "stream",
     "text": [
      "Percorso del modulo aggiunto: /Users/saraborello/Documents/GITHUB/Citation-network/notebooks/src\n"
     ]
    },
    {
     "ename": "ModuleNotFoundError",
     "evalue": "No module named 'orcid_extraction'",
     "output_type": "error",
     "traceback": [
      "\u001b[0;31m---------------------------------------------------------------------------\u001b[0m",
      "\u001b[0;31mModuleNotFoundError\u001b[0m                       Traceback (most recent call last)",
      "Cell \u001b[0;32mIn[1], line 12\u001b[0m\n\u001b[1;32m      9\u001b[0m     sys\u001b[38;5;241m.\u001b[39mpath\u001b[38;5;241m.\u001b[39mappend(module_path)\n\u001b[1;32m     11\u001b[0m \u001b[38;5;66;03m# Importa le funzioni\u001b[39;00m\n\u001b[0;32m---> 12\u001b[0m \u001b[38;5;28;01mfrom\u001b[39;00m \u001b[38;5;21;01morcid_extraction\u001b[39;00m \u001b[38;5;28;01mimport\u001b[39;00m search_orcid_by_name, extract_profile_info, get_orcid_profile\n",
      "\u001b[0;31mModuleNotFoundError\u001b[0m: No module named 'orcid_extraction'"
     ]
    }
   ],
   "source": [
    "import os\n",
    "import sys\n",
    "\n",
    "# Aggiungi il percorso al modulo src\n",
    "module_path = os.path.abspath(os.path.join('..', 'src'))\n",
    "print(f\"Percorso del modulo aggiunto: {module_path}\")\n",
    "\n",
    "if module_path not in sys.path:\n",
    "    sys.path.append(module_path)\n",
    "\n",
    "# Importa le funzioni\n",
    "from orcid_extraction import search_orcid_by_name, extract_profile_info, get_orcid_profile\n"
   ]
  },
  {
   "cell_type": "code",
   "execution_count": 2,
   "metadata": {},
   "outputs": [
    {
     "name": "stdout",
     "output_type": "stream",
     "text": [
      "../\n"
     ]
    }
   ],
   "source": [
    "import os\n",
    "print(os.getenv(\"PYTHONPATH\"))\n"
   ]
  },
  {
   "cell_type": "code",
   "execution_count": 3,
   "metadata": {},
   "outputs": [],
   "source": [
    "import sys\n",
    "import os\n",
    "\n",
    "sys.path.append(os.path.abspath(\"../\"))\n"
   ]
  }
 ],
 "metadata": {
  "kernelspec": {
   "display_name": "Python 3",
   "language": "python",
   "name": "python3"
  },
  "language_info": {
   "codemirror_mode": {
    "name": "ipython",
    "version": 3
   },
   "file_extension": ".py",
   "mimetype": "text/x-python",
   "name": "python",
   "nbconvert_exporter": "python",
   "pygments_lexer": "ipython3",
   "version": "3.9.6"
  }
 },
 "nbformat": 4,
 "nbformat_minor": 2
}
